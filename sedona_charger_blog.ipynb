{
 "cells": [
  {
   "cell_type": "markdown",
   "id": "38711e50-5ff7-4455-8c79-065b935dfc57",
   "metadata": {},
   "source": [
    "# Install jupyter-leaflet in the Extension Manager first"
   ]
  },
  {
   "cell_type": "code",
   "execution_count": null,
   "id": "2258d20d-c957-4ee5-8143-4af87b2e102a",
   "metadata": {},
   "outputs": [],
   "source": [
    "# For conda:\n",
    "import sys\n",
    "!conda env update --file environment.yml  --prune"
   ]
  },
  {
   "cell_type": "code",
   "execution_count": null,
   "id": "cbaa2e77-406e-4af1-b61c-da84ebb887f6",
   "metadata": {},
   "outputs": [],
   "source": [
    "# For pip on windows\n",
    "import sys\n",
    "!{sys.executable} -m pip install -r requirements.txt"
   ]
  },
  {
   "cell_type": "code",
   "execution_count": null,
   "id": "1c71de2e-2e25-47dc-bc4d-db95f2be8f7f",
   "metadata": {},
   "outputs": [],
   "source": [
    "import json\n",
    "import os\n",
    "import shutil\n",
    "import urllib3\n",
    "\n",
    "import pandas as pd\n",
    "import numpy as np\n",
    "\n",
    "import pyspark\n",
    "from pyspark.sql import SparkSession\n",
    "\n",
    "from sedona.register import SedonaRegistrator  \n",
    "from sedona.utils import SedonaKryoRegistrator, KryoSerializer\n",
    "\n",
    "from ipyleaflet import Map, basemaps, basemap_to_tiles, MarkerCluster, Marker, AwesomeIcon\n",
    "from ipywidgets import Layout"
   ]
  },
  {
   "cell_type": "code",
   "execution_count": null,
   "id": "7e65c1db-d2e4-457c-b49e-958525bf620a",
   "metadata": {},
   "outputs": [],
   "source": [
    "spark = SparkSession.\\\n",
    "    builder.\\\n",
    "    master(f\"local[*]\").\\\n",
    "    appName(\"Sedona App\").\\\n",
    "    config(\"spark.serializer\", KryoSerializer.getName).\\\n",
    "    config(\"spark.kryo.registrator\", SedonaKryoRegistrator.getName) .\\\n",
    "    config('spark.jars.packages',\n",
    "           'com.acervera.osm4scala:osm4scala-spark3-shaded_2.12:1.0.11,'\n",
    "           'org.apache.sedona:sedona-spark-shaded-3.0_2.12:1.4.0,'\n",
    "           'org.datasyslab:geotools-wrapper:1.4.0-28.2') .\\\n",
    "    getOrCreate()\n",
    "\n",
    "SedonaRegistrator.registerAll(spark)\n",
    "\n",
    "print(f\"Spark version: {spark.version}\")\n",
    "print(f\"Spark UI: {spark.sparkContext.uiWebUrl}\")"
   ]
  },
  {
   "cell_type": "code",
   "execution_count": null,
   "id": "2d3eabbe-ceb9-495a-888e-e517bd1b8445",
   "metadata": {},
   "outputs": [],
   "source": [
    "# url=\"https://download.geofabrik.de/europe/germany/berlin-latest.osm.pbf\"\n",
    "# url=\"https://download.geofabrik.de/europe/germany-latest.osm.pbf\"\n",
    "url=\"https://download.geofabrik.de/europe/germany/nordrhein-westfalen-latest.osm.pbf\"\n",
    "pbf_file = url.split('/')[-1]\n",
    "if not os.path.exists(pbf_file):\n",
    "    http = urllib3.PoolManager()\n",
    "    with open(pbf_file, 'wb') as out:\n",
    "        r = http.request('GET', url, preload_content=False)\n",
    "        shutil.copyfileobj(r, out)\n",
    "\n",
    "base_name = os.path.basename(pbf_file).split(\".\")[0]"
   ]
  },
  {
   "cell_type": "code",
   "execution_count": null,
   "id": "158fd78c-f144-4dee-9d5d-3bbeaf97dadc",
   "metadata": {},
   "outputs": [],
   "source": [
    "raw_df = spark.read.format(\"osm.pbf\").load(pbf_file)"
   ]
  },
  {
   "cell_type": "code",
   "execution_count": null,
   "id": "7b43c09c-11d5-4c89-8258-d286a7f50e68",
   "metadata": {},
   "outputs": [],
   "source": [
    "node_df = raw_df.where(\"type = 0\")\n",
    "way_df = raw_df.where(\"type = 1\")"
   ]
  },
  {
   "cell_type": "code",
   "execution_count": null,
   "id": "1c97cb69-a04c-491a-a601-21622b1d1ae2",
   "metadata": {},
   "outputs": [],
   "source": [
    "node_simple_df = node_df.select(\"id\",\"latitude\", \"longitude\")\n",
    "way_simple_df = way_df.drop(\"id\",\"latitude\", \"longitude\")\n",
    "way_with_gps_df = way_simple_df.join(\n",
    "    node_simple_df, way_simple_df.nodes.getItem(0) == node_simple_df.id)\n",
    "\n",
    "way_simple_df = way_with_gps_df.select(\"latitude\", \"longitude\", \"tags\")\n",
    "node_simple_df = node_df.select(\"latitude\", \"longitude\", \"tags\")"
   ]
  },
  {
   "cell_type": "code",
   "execution_count": null,
   "id": "a42de920-c94e-4f7d-b646-48dcf3f77a64",
   "metadata": {},
   "outputs": [],
   "source": [
    "charge_and_food_df = way_simple_df.union(node_simple_df).\\\n",
    "    where(\"element_at(tags, 'amenity') in ('charging_station', 'fast_food')\")\n",
    "charge_and_food_df.cache()"
   ]
  },
  {
   "cell_type": "code",
   "execution_count": null,
   "id": "af009ed5-d474-4d31-8b22-c9c120fb84cc",
   "metadata": {},
   "outputs": [],
   "source": [
    "charger_df = charge_and_food_df.select(\"latitude\", \"longitude\").\\\n",
    "    where(\"element_at(tags, 'amenity') == 'charging_station' and instr(element_at(tags, 'socket:type2_combo:output'),' kW') > 0 and replace(element_at(tags, 'socket:type2_combo:output'), ' kW','') > 50\")\n",
    "charger_df.createOrReplaceTempView(\"charger\")\n",
    "\n",
    "fast_food_df = charge_and_food_df.select(\"latitude\", \"longitude\").\\\n",
    "    where(\"element_at(tags, 'amenity') == 'fast_food'\")\n",
    "fast_food_df.createOrReplaceTempView(\"fast_food\")"
   ]
  },
  {
   "cell_type": "code",
   "execution_count": null,
   "id": "fd6d0501-061b-4876-b52e-fce80ae61045",
   "metadata": {},
   "outputs": [],
   "source": [
    "icon_charger = AwesomeIcon(\n",
    "    name='fa-battery-full',\n",
    "    marker_color='green',\n",
    "    icon_color='darkgreen'\n",
    ")\n",
    "\n",
    "icon_fast_food = AwesomeIcon(\n",
    "    name='fa-cutlery',\n",
    "    marker_color='red',\n",
    "    icon_color='black'\n",
    ")"
   ]
  },
  {
   "cell_type": "code",
   "execution_count": null,
   "id": "f02ebc11-092e-4d29-9b87-bfb23b20c35a",
   "metadata": {},
   "outputs": [],
   "source": [
    "charger_pos = tuple([Marker(location=tuple(row), icon=icon_charger) for row in charger_df.limit(250).collect()])\n",
    "fast_food_pos  = tuple([Marker(location=tuple(row), icon=icon_fast_food ) for row in fast_food_df.limit(250).collect()])\n",
    "\n",
    "marker_charger = MarkerCluster(markers=charger_pos)\n",
    "marker_fast_food = MarkerCluster(markers=fast_food_pos)\n",
    "\n",
    "latitudes =  np.array([x.location[0] for x in charger_pos]+[x.location[0] for x in fast_food_pos])\n",
    "longitudes = np.array([x.location[1] for x in charger_pos]+[x.location[1] for x in fast_food_pos])\n",
    "ce = [latitudes.mean(), longitudes.mean()]\n",
    "\n",
    "m = Map(\n",
    "    basemap=basemap_to_tiles(basemaps.OpenStreetMap.Mapnik),\n",
    "    center=ce,\n",
    "    layout=Layout(width='50%', height='800px'),\n",
    "    zoom=7\n",
    ")\n",
    "\n",
    "m.add_layer(marker_charger)\n",
    "m.add_layer(marker_fast_food)\n",
    "\n",
    "display(m)"
   ]
  },
  {
   "cell_type": "code",
   "execution_count": null,
   "id": "ee974188-7ac8-4f33-ad27-2b7e4ace94cd",
   "metadata": {},
   "outputs": [],
   "source": [
    "epsg_code = \"epsg:25832\"\n",
    "\n",
    "charger_geo = spark.sql(f\"\"\"\n",
    "SELECT \n",
    "ST_Transform(ST_Point(CAST(latitude AS Decimal(24,20)), CAST(longitude AS Decimal(24,20))), 'epsg:4326', '{epsg_code}') AS charger_point \n",
    "from charger\"\"\")\n",
    "charger_geo.cache()\n",
    "charger_geo.createOrReplaceTempView(\"charger_geo\")\n",
    "\n",
    "fast_food_geo = spark.sql(f\"\"\"\n",
    "SELECT ST_Transform(ST_Point(CAST(latitude AS Decimal(24,20)), CAST(longitude AS Decimal(24,20))), 'epsg:4326', '{epsg_code}') AS fast_food_point from fast_food\n",
    "\"\"\")\n",
    "fast_food_geo.cache()\n",
    "fast_food_geo.createOrReplaceTempView(\"fast_food_geo\")\n",
    "\n",
    "print(f\"Charger count:   {charger_geo.count()}\")\n",
    "print(f\"Fast food count: {fast_food_geo.count()}\")"
   ]
  },
  {
   "cell_type": "code",
   "execution_count": null,
   "id": "737f00df-361a-4a27-87db-846d8c3484fb",
   "metadata": {},
   "outputs": [],
   "source": [
    "food_near_charger_df = spark.sql(f\"\"\"\n",
    "SELECT \n",
    "ST_AsGeoJSON(\n",
    "   ST_Transform(charger_geo.charger_point,     '{epsg_code}', 'epsg:4326')\n",
    ") charger_point, \n",
    "ST_AsGeoJSON(\n",
    "   ST_Transform(fast_food_geo.fast_food_point, '{epsg_code}', 'epsg:4326')\n",
    ") fast_food_point, \n",
    "ST_Distance(\n",
    "  charger_geo.charger_point, fast_food_geo.fast_food_point\n",
    ") distance_meter\n",
    "FROM charger_geo, fast_food_geo \n",
    "WHERE \n",
    "ST_Distance(charger_geo.charger_point, fast_food_geo.fast_food_point) <= 100\n",
    "\"\"\").cache()\n",
    "\n",
    "charger_near_df = food_near_charger_df.select(\"charger_point\").distinct()\n",
    "charger_near_df.cache()\n",
    "food_near_df = food_near_charger_df.select(\"fast_food_point\").distinct()\n",
    "food_near_df.cache()"
   ]
  },
  {
   "cell_type": "code",
   "execution_count": null,
   "id": "f8761199-6ad7-41a0-bdd6-fd1bbd964660",
   "metadata": {},
   "outputs": [],
   "source": [
    "print(f\"Fast food: {food_near_df.count()}\")\n",
    "print(f\"Charger: {charger_near_df.count()}\")"
   ]
  },
  {
   "cell_type": "code",
   "execution_count": null,
   "id": "3f6e3721-e1f7-4d6c-9a24-9e172e3c51f0",
   "metadata": {
    "editable": true,
    "slideshow": {
     "slide_type": ""
    },
    "tags": []
   },
   "outputs": [],
   "source": [
    "charger_near_pos = tuple([Marker(location=tuple(json.loads(row[\"charger_point\"])[\"coordinates\"]), icon=icon_charger) for row in charger_near_df.collect()])\n",
    "burger_near_pos  = tuple([Marker(location=tuple(json.loads(row[\"fast_food_point\"])[\"coordinates\"]), icon=icon_fast_food) for row in food_near_df.collect()])\n",
    "\n",
    "marker_charger = MarkerCluster(markers=charger_near_pos)\n",
    "marker_burger = MarkerCluster(markers=burger_near_pos)\n",
    "\n",
    "latitudes =  np.array([x.location[0] for x in charger_near_pos]+[x.location[0] for x in burger_near_pos])\n",
    "longitudes = np.array([x.location[1] for x in charger_near_pos]+[x.location[1] for x in burger_near_pos])\n",
    "\n",
    "ce = [latitudes.mean(), longitudes.mean()]\n",
    "\n",
    "\n",
    "m = Map(\n",
    "    basemap=basemap_to_tiles(basemaps.OpenStreetMap.Mapnik),\n",
    "    center=ce,\n",
    "    layout=Layout(width='50%', height='800px'),\n",
    "    zoom=7\n",
    ")\n",
    "\n",
    "m.add_layer(marker_charger)\n",
    "m.add_layer(marker_burger)\n",
    "\n",
    "display(m)"
   ]
  }
 ],
 "metadata": {
  "kernelspec": {
   "display_name": "Python 3 (ipykernel)",
   "language": "python",
   "name": "python3"
  },
  "language_info": {
   "codemirror_mode": {
    "name": "ipython",
    "version": 3
   },
   "file_extension": ".py",
   "mimetype": "text/x-python",
   "name": "python",
   "nbconvert_exporter": "python",
   "pygments_lexer": "ipython3",
   "version": "3.10.4"
  }
 },
 "nbformat": 4,
 "nbformat_minor": 5
}
